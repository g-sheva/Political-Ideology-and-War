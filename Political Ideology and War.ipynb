{
 "cells": [
  {
   "cell_type": "markdown",
   "metadata": {},
   "source": [
    "## \"So long as there are men, there will be wars\"\n",
    "\n",
    "The quote above, by Albert Einstein, paints a depressing reality of the world. War is a part of human civilization, hence it's existence will always be perpetuated. However, war is still a war and it deprives everyone, most importantly the innocent ones, of happiness, dignity, future, and life. Therefore, it's in humanity's best interest to minimalize, and hopefully one day eradicate, war.\n",
    "\n",
    "The following analysis will try to find the correlation between political ideology and their likelihood to go to war. For this analysis, I will be using \"The Global Leader Ideology\" dataset by Bastian Herre(2021) and Correlates of War's War Data by Sarkees, et al.(2010) "
   ]
  },
  {
   "cell_type": "markdown",
   "metadata": {},
   "source": [
    "### Context\n",
    "Political ideology is a set of rules or principles that is attributed to someone or political entity. As such, it constrains the actor from taking decision that doesn't conform with their ideology. For example, let's say that we have two entity with the political ideology of capitalism and communism. Inherently, these two are always clashing because one is the antithesis of the other. Capitalism believes that the market should be left alone and let the it distributes the wealth, while communism believes that capitalism is not fair, so an intervention to the market is necessary. The capitalist will never resort to disrupt the market as it would backlash with their idea and doesn't contribute to their goal. By the same logic, the communist will never let their controlover their market go. To put it simply, political ideology is an important factor in decision making.\n",
    "\n",
    "There are various political ideology, ranging from anarchism to environmentalism, but in general can be categorised into three broad spectrum; leftist, rightist, and centrist. Leftist generally supports social equality and usually more open to changes. Rightist, commonly referred as conservatives, generally supports the existing social order and believes that social stratification is inevitable. On the other hand, centrist is trying to bring the two ideas together."
   ]
  },
  {
   "cell_type": "code",
   "execution_count": 1,
   "metadata": {},
   "outputs": [],
   "source": [
    "import pandas as pd\n",
    "import seaborn as sns\n",
    "import matplotlib.pyplot as plt"
   ]
  },
  {
   "cell_type": "code",
   "execution_count": 2,
   "metadata": {},
   "outputs": [],
   "source": [
    "leadership = pd.read_csv(\"gli.csv\")\n",
    "intra_wars = pd.read_csv(\"intra_wars_state.csv\", encoding='mac_roman')"
   ]
  },
  {
   "cell_type": "code",
   "execution_count": 3,
   "metadata": {},
   "outputs": [],
   "source": [
    "leadership_clean = leadership[[\"country_name\", \n",
    "                              \"country_code_cow\", \n",
    "                              \"year\", \n",
    "                              \"hog\", \n",
    "                              \"hog_ideology\",\n",
    "                             \"hog_ideology_num_redux\",\n",
    "                             \"leader\",\n",
    "                             \"leader_ideology\",\n",
    "                             \"leader_ideology_num_redux\"]].copy()\n",
    "\n",
    "intra_wars_clean = intra_wars[[\"WarNum\",\n",
    "                              \"WarName\",\n",
    "                              \"CcodeA\",\n",
    "                              \"SideA\",\n",
    "                              \"CcodeB\",\n",
    "                              \"SideB\",\n",
    "                              \"StartYr1\",\n",
    "                              \"Initiator\"]].copy()\n",
    "\n",
    "leadership_clean.rename(columns={\"country_name\" : \"state\", \"country_code_cow\" : \"ccode\"}, inplace=True)\n",
    "\n",
    "intra_wars_clean.rename(columns={\"CcodeA\" : \"ccode_a\", \"CcodeB\" : \"ccode_b\", \"StartYr1\" : \"year\"}, inplace=True)\n",
    "\n",
    "# Global Leadership dataset only recorded data from 1945\n",
    "x = intra_wars_clean[intra_wars_clean[\"year\"] >= 1945]"
   ]
  },
  {
   "cell_type": "markdown",
   "metadata": {},
   "source": [
    "## Data Features\n",
    "### The Global Leader Ideology\n",
    "* state : The name of the state\n",
    "* ccode : CoW's state code\n",
    "* year : The year when the data is recorded\n",
    "* hog : Head of Government's name\n",
    "* hog_ideology : Head of Government's political ideology\n",
    "* leader : State leader's name\n",
    "* leader_ideology : State leader's political ideology\n",
    "\n",
    "### Correlates of War\n",
    "* WarNum : Index\n",
    "* WarName : Name of the war\n",
    "* ccode_a : CoW's state code of the first belligerent\n",
    "* SideA   : Name of the first belligerent\n",
    "* ccode_b : CoW's state code of the second belligerent\n",
    "* SideB   : Name of the second belligerent\n",
    "* year    : The year when the war was officially declared or first battle took place\n",
    "* initiator : Name of the belligerent who started the war"
   ]
  },
  {
   "cell_type": "code",
   "execution_count": 4,
   "metadata": {},
   "outputs": [],
   "source": [
    "leader = leadership_clean[leadership_clean[\"year\"] <= 2014].copy()"
   ]
  },
  {
   "cell_type": "code",
   "execution_count": 5,
   "metadata": {},
   "outputs": [],
   "source": [
    "df = x.merge(leadership_clean, on='year')"
   ]
  },
  {
   "cell_type": "code",
   "execution_count": 6,
   "metadata": {},
   "outputs": [],
   "source": [
    "dfx = df[(df[\"ccode_a\"] == df[\"ccode\"]) | (df[\"ccode_b\"] == df[\"ccode\"])].copy()"
   ]
  },
  {
   "cell_type": "code",
   "execution_count": 7,
   "metadata": {},
   "outputs": [
    {
     "data": {
      "text/plain": [
       "leftist           146\n",
       "rightist          109\n",
       "centrist           31\n",
       "no information     29\n",
       "Name: hog_ideology, dtype: int64"
      ]
     },
     "execution_count": 7,
     "metadata": {},
     "output_type": "execute_result"
    }
   ],
   "source": [
    "dfx[\"hog_ideology\"].value_counts()"
   ]
  },
  {
   "cell_type": "code",
   "execution_count": 8,
   "metadata": {},
   "outputs": [
    {
     "data": {
      "text/plain": [
       "leftist           160\n",
       "rightist          116\n",
       "centrist           27\n",
       "no information     11\n",
       "not applicable      1\n",
       "Name: leader_ideology, dtype: int64"
      ]
     },
     "execution_count": 8,
     "metadata": {},
     "output_type": "execute_result"
    }
   ],
   "source": [
    "dfx[\"leader_ideology\"].value_counts()"
   ]
  },
  {
   "cell_type": "code",
   "execution_count": 9,
   "metadata": {},
   "outputs": [
    {
     "data": {
      "text/plain": [
       "leftist           19\n",
       "rightist          17\n",
       "no information     7\n",
       "centrist           2\n",
       "Name: hog_ideology, dtype: int64"
      ]
     },
     "execution_count": 9,
     "metadata": {},
     "output_type": "execute_result"
    }
   ],
   "source": [
    "hog_initiator = dfx[dfx[\"Initiator\"]==dfx[\"state\"]][\"hog_ideology\"]\n",
    "hog_initiator.value_counts()"
   ]
  },
  {
   "cell_type": "code",
   "execution_count": 10,
   "metadata": {},
   "outputs": [
    {
     "data": {
      "text/plain": [
       "leftist           22\n",
       "rightist          20\n",
       "no information     2\n",
       "centrist           1\n",
       "Name: leader_ideology, dtype: int64"
      ]
     },
     "execution_count": 10,
     "metadata": {},
     "output_type": "execute_result"
    }
   ],
   "source": [
    "leader_initiator = dfx[dfx[\"Initiator\"]==dfx[\"state\"]][\"leader_ideology\"]\n",
    "leader_initiator.value_counts()"
   ]
  },
  {
   "cell_type": "code",
   "execution_count": 11,
   "metadata": {},
   "outputs": [
    {
     "data": {
      "text/plain": [
       "leftist           4296\n",
       "rightist          3845\n",
       "centrist           872\n",
       "no information     635\n",
       "not applicable     247\n",
       "none                35\n",
       "Name: hog_ideology, dtype: int64"
      ]
     },
     "execution_count": 11,
     "metadata": {},
     "output_type": "execute_result"
    }
   ],
   "source": [
    "leader[\"hog_ideology\"].value_counts()"
   ]
  },
  {
   "cell_type": "code",
   "execution_count": 22,
   "metadata": {},
   "outputs": [
    {
     "data": {
      "image/png": "[encoded data removed]",
      "text/plain": [
       "<Figure size 432x288 with 1 Axes>"
      ]
     },
     "metadata": {
      "needs_background": "light"
     },
     "output_type": "display_data"
    }
   ],
   "source": [
    "f = plt.plot(figsize=(15, 10))\n",
    "\n",
    "sns.countplot(x = \"hog_ideology\", data=dfx)\n",
    "\n",
    "plt.show()"
   ]
  },
  {
   "cell_type": "code",
   "execution_count": 25,
   "metadata": {},
   "outputs": [
    {
     "data": {
      "image/png": "[encoded data removed]",
      "text/plain": [
       "<Figure size 432x288 with 1 Axes>"
      ]
     },
     "metadata": {
      "needs_background": "light"
     },
     "output_type": "display_data"
    }
   ],
   "source": [
    "f = plt.plot(figsize=(15, 10))\n",
    "\n",
    "\n",
    "sns.countplot(x = \"hog_ideology\", data= leader)\n",
    "\n",
    "plt.show()"
   ]
  },
  {
   "cell_type": "code",
   "execution_count": 18,
   "metadata": {},
   "outputs": [],
   "source": [
    "# Ratio\n",
    "leftist = dfx[\"hog_ideology\"].value_counts()[\"leftist\"] / leader[\"hog_ideology\"].value_counts()[\"leftist\"] * 100\n",
    "rightist = dfx[\"hog_ideology\"].value_counts()[\"rightist\"] / leader[\"hog_ideology\"].value_counts()[\"rightist\"] * 100\n",
    "centrist = dfx[\"hog_ideology\"].value_counts()[\"centrist\"]/ leader[\"hog_ideology\"].value_counts()[\"centrist\"] * 100"
   ]
  },
  {
   "cell_type": "code",
   "execution_count": 19,
   "metadata": {},
   "outputs": [
    {
     "data": {
      "text/plain": [
       "3.3985102420856608"
      ]
     },
     "execution_count": 19,
     "metadata": {},
     "output_type": "execute_result"
    }
   ],
   "source": [
    "leftist"
   ]
  },
  {
   "cell_type": "code",
   "execution_count": 20,
   "metadata": {},
   "outputs": [
    {
     "data": {
      "text/plain": [
       "2.8348504551365408"
      ]
     },
     "execution_count": 20,
     "metadata": {},
     "output_type": "execute_result"
    }
   ],
   "source": [
    "rightist"
   ]
  },
  {
   "cell_type": "code",
   "execution_count": 21,
   "metadata": {},
   "outputs": [
    {
     "data": {
      "text/plain": [
       "3.555045871559633"
      ]
     },
     "execution_count": 21,
     "metadata": {},
     "output_type": "execute_result"
    }
   ],
   "source": [
    "centrist"
   ]
  },
  {
   "cell_type": "markdown",
   "metadata": {},
   "source": [
    "## Conclusion\n",
    "The political ideology doesn't determine state's participation in war"
   ]
  },
  {
   "cell_type": "markdown",
   "metadata": {},
   "source": [
    "### Bibliography:\n",
    "\n",
    "Herre, Bastian. 2021. Identifying Ideologues: A Global Dataset on Political Leaders, 1945-2020. Working Paper.\n",
    "Sarkees, Meredith Reid and Frank Wayman (2010). Resort to War: 1816 - 2007. Washington DC: CQ Press."
   ]
  },
  {
   "cell_type": "code",
   "execution_count": null,
   "metadata": {},
   "outputs": [],
   "source": []
  }
 ],
 "metadata": {
  "kernelspec": {
   "display_name": "Python 3",
   "language": "python",
   "name": "python3"
  },
  "language_info": {
   "codemirror_mode": {
    "name": "ipython",
    "version": 3
   },
   "file_extension": ".py",
   "mimetype": "text/x-python",
   "name": "python",
   "nbconvert_exporter": "python",
   "pygments_lexer": "ipython3",
   "version": "3.8.5"
  }
 },
 "nbformat": 4,
 "nbformat_minor": 4
}
